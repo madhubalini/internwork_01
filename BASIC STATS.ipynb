{
 "cells": [
  {
   "cell_type": "markdown",
   "metadata": {},
   "source": [
    "# MEASURES OF CENTRAL TENDANCY and VARIABILITY\n"
   ]
  },
  {
   "cell_type": "code",
   "execution_count": 1,
   "metadata": {
    "ExecuteTime": {
     "end_time": "2021-04-16T07:24:34.690713Z",
     "start_time": "2021-04-16T07:24:34.682700Z"
    }
   },
   "outputs": [],
   "source": [
    "import numpy as np"
   ]
  },
  {
   "cell_type": "code",
   "execution_count": 2,
   "metadata": {
    "ExecuteTime": {
     "end_time": "2021-04-16T07:24:35.933914Z",
     "start_time": "2021-04-16T07:24:35.925910Z"
    }
   },
   "outputs": [],
   "source": [
    "x = [1,2,3,4,5,6]\n",
    "y = [7,8,9,10,11,12]"
   ]
  },
  {
   "cell_type": "code",
   "execution_count": 3,
   "metadata": {
    "ExecuteTime": {
     "end_time": "2021-04-16T07:24:36.773831Z",
     "start_time": "2021-04-16T07:24:36.749827Z"
    }
   },
   "outputs": [
    {
     "data": {
      "text/plain": [
       "array([[ 1,  2,  3,  4,  5,  6],\n",
       "       [ 7,  8,  9, 10, 11, 12]])"
      ]
     },
     "execution_count": 3,
     "metadata": {},
     "output_type": "execute_result"
    }
   ],
   "source": [
    "z = np.array([x,y])\n",
    "z"
   ]
  },
  {
   "cell_type": "code",
   "execution_count": 4,
   "metadata": {
    "ExecuteTime": {
     "end_time": "2021-04-16T07:24:37.758879Z",
     "start_time": "2021-04-16T07:24:37.734425Z"
    }
   },
   "outputs": [
    {
     "data": {
      "text/plain": [
       "6.5"
      ]
     },
     "execution_count": 4,
     "metadata": {},
     "output_type": "execute_result"
    }
   ],
   "source": [
    "np.mean(z)"
   ]
  },
  {
   "cell_type": "code",
   "execution_count": 5,
   "metadata": {
    "ExecuteTime": {
     "end_time": "2021-04-16T07:24:38.825782Z",
     "start_time": "2021-04-16T07:24:38.801769Z"
    }
   },
   "outputs": [
    {
     "data": {
      "text/plain": [
       "6.5"
      ]
     },
     "execution_count": 5,
     "metadata": {},
     "output_type": "execute_result"
    }
   ],
   "source": [
    "np.median(z)"
   ]
  },
  {
   "cell_type": "code",
   "execution_count": 6,
   "metadata": {
    "ExecuteTime": {
     "end_time": "2021-04-16T07:24:39.218418Z",
     "start_time": "2021-04-16T07:24:39.202413Z"
    }
   },
   "outputs": [
    {
     "data": {
      "text/plain": [
       "3.452052529534663"
      ]
     },
     "execution_count": 6,
     "metadata": {},
     "output_type": "execute_result"
    }
   ],
   "source": [
    "np.std(z)"
   ]
  },
  {
   "cell_type": "code",
   "execution_count": 7,
   "metadata": {
    "ExecuteTime": {
     "end_time": "2021-04-16T07:24:39.626533Z",
     "start_time": "2021-04-16T07:24:39.602510Z"
    }
   },
   "outputs": [
    {
     "data": {
      "text/plain": [
       "11.916666666666666"
      ]
     },
     "execution_count": 7,
     "metadata": {},
     "output_type": "execute_result"
    }
   ],
   "source": [
    "np.var(z)"
   ]
  },
  {
   "cell_type": "markdown",
   "metadata": {},
   "source": [
    "# A  EXAMPLE FOR STATISTICAL ANALYSIS"
   ]
  },
  {
   "cell_type": "code",
   "execution_count": 12,
   "metadata": {
    "ExecuteTime": {
     "end_time": "2021-04-16T07:40:02.210382Z",
     "start_time": "2021-04-16T07:39:44.798196Z"
    }
   },
   "outputs": [],
   "source": [
    "import pandas as pd\n",
    "import numpy as np\n",
    "import matplotlib.pyplot as plt"
   ]
  },
  {
   "cell_type": "code",
   "execution_count": 13,
   "metadata": {
    "ExecuteTime": {
     "end_time": "2021-04-16T07:40:19.354431Z",
     "start_time": "2021-04-16T07:40:19.102294Z"
    }
   },
   "outputs": [
    {
     "data": {
      "text/html": [
       "<div>\n",
       "<style scoped>\n",
       "    .dataframe tbody tr th:only-of-type {\n",
       "        vertical-align: middle;\n",
       "    }\n",
       "\n",
       "    .dataframe tbody tr th {\n",
       "        vertical-align: top;\n",
       "    }\n",
       "\n",
       "    .dataframe thead th {\n",
       "        text-align: right;\n",
       "    }\n",
       "</style>\n",
       "<table border=\"1\" class=\"dataframe\">\n",
       "  <thead>\n",
       "    <tr style=\"text-align: right;\">\n",
       "      <th></th>\n",
       "      <th>datasrno</th>\n",
       "      <th>workex</th>\n",
       "      <th>gmat</th>\n",
       "    </tr>\n",
       "  </thead>\n",
       "  <tbody>\n",
       "    <tr>\n",
       "      <th>0</th>\n",
       "      <td>1</td>\n",
       "      <td>21</td>\n",
       "      <td>720</td>\n",
       "    </tr>\n",
       "    <tr>\n",
       "      <th>1</th>\n",
       "      <td>2</td>\n",
       "      <td>107</td>\n",
       "      <td>640</td>\n",
       "    </tr>\n",
       "    <tr>\n",
       "      <th>2</th>\n",
       "      <td>3</td>\n",
       "      <td>57</td>\n",
       "      <td>740</td>\n",
       "    </tr>\n",
       "    <tr>\n",
       "      <th>3</th>\n",
       "      <td>4</td>\n",
       "      <td>99</td>\n",
       "      <td>690</td>\n",
       "    </tr>\n",
       "    <tr>\n",
       "      <th>4</th>\n",
       "      <td>5</td>\n",
       "      <td>208</td>\n",
       "      <td>710</td>\n",
       "    </tr>\n",
       "  </tbody>\n",
       "</table>\n",
       "</div>"
      ],
      "text/plain": [
       "   datasrno  workex  gmat\n",
       "0         1      21   720\n",
       "1         2     107   640\n",
       "2         3      57   740\n",
       "3         4      99   690\n",
       "4         5     208   710"
      ]
     },
     "execution_count": 13,
     "metadata": {},
     "output_type": "execute_result"
    }
   ],
   "source": [
    "mba = pd.read_csv(\"mba.csv\")\n",
    "mba.head(5)"
   ]
  },
  {
   "cell_type": "code",
   "execution_count": 14,
   "metadata": {
    "ExecuteTime": {
     "end_time": "2021-04-16T07:40:39.365798Z",
     "start_time": "2021-04-16T07:40:39.333777Z"
    }
   },
   "outputs": [
    {
     "data": {
      "text/html": [
       "<div>\n",
       "<style scoped>\n",
       "    .dataframe tbody tr th:only-of-type {\n",
       "        vertical-align: middle;\n",
       "    }\n",
       "\n",
       "    .dataframe tbody tr th {\n",
       "        vertical-align: top;\n",
       "    }\n",
       "\n",
       "    .dataframe thead th {\n",
       "        text-align: right;\n",
       "    }\n",
       "</style>\n",
       "<table border=\"1\" class=\"dataframe\">\n",
       "  <thead>\n",
       "    <tr style=\"text-align: right;\">\n",
       "      <th></th>\n",
       "      <th>datasrno</th>\n",
       "      <th>workex</th>\n",
       "      <th>gmat</th>\n",
       "    </tr>\n",
       "  </thead>\n",
       "  <tbody>\n",
       "    <tr>\n",
       "      <th>count</th>\n",
       "      <td>773.00000</td>\n",
       "      <td>773.00000</td>\n",
       "      <td>773.000000</td>\n",
       "    </tr>\n",
       "    <tr>\n",
       "      <th>mean</th>\n",
       "      <td>387.00000</td>\n",
       "      <td>57.50194</td>\n",
       "      <td>711.164295</td>\n",
       "    </tr>\n",
       "    <tr>\n",
       "      <th>std</th>\n",
       "      <td>223.29017</td>\n",
       "      <td>27.38682</td>\n",
       "      <td>29.339714</td>\n",
       "    </tr>\n",
       "    <tr>\n",
       "      <th>min</th>\n",
       "      <td>1.00000</td>\n",
       "      <td>9.00000</td>\n",
       "      <td>600.000000</td>\n",
       "    </tr>\n",
       "    <tr>\n",
       "      <th>25%</th>\n",
       "      <td>194.00000</td>\n",
       "      <td>41.00000</td>\n",
       "      <td>690.000000</td>\n",
       "    </tr>\n",
       "    <tr>\n",
       "      <th>50%</th>\n",
       "      <td>387.00000</td>\n",
       "      <td>52.00000</td>\n",
       "      <td>710.000000</td>\n",
       "    </tr>\n",
       "    <tr>\n",
       "      <th>75%</th>\n",
       "      <td>580.00000</td>\n",
       "      <td>69.00000</td>\n",
       "      <td>730.000000</td>\n",
       "    </tr>\n",
       "    <tr>\n",
       "      <th>max</th>\n",
       "      <td>773.00000</td>\n",
       "      <td>279.00000</td>\n",
       "      <td>780.000000</td>\n",
       "    </tr>\n",
       "  </tbody>\n",
       "</table>\n",
       "</div>"
      ],
      "text/plain": [
       "        datasrno     workex        gmat\n",
       "count  773.00000  773.00000  773.000000\n",
       "mean   387.00000   57.50194  711.164295\n",
       "std    223.29017   27.38682   29.339714\n",
       "min      1.00000    9.00000  600.000000\n",
       "25%    194.00000   41.00000  690.000000\n",
       "50%    387.00000   52.00000  710.000000\n",
       "75%    580.00000   69.00000  730.000000\n",
       "max    773.00000  279.00000  780.000000"
      ]
     },
     "execution_count": 14,
     "metadata": {},
     "output_type": "execute_result"
    }
   ],
   "source": [
    "mba.describe() "
   ]
  },
  {
   "cell_type": "code",
   "execution_count": 15,
   "metadata": {
    "ExecuteTime": {
     "end_time": "2021-04-16T07:40:55.797703Z",
     "start_time": "2021-04-16T07:40:55.773703Z"
    }
   },
   "outputs": [
    {
     "name": "stdout",
     "output_type": "stream",
     "text": [
      "<class 'pandas.core.frame.DataFrame'>\n",
      "RangeIndex: 773 entries, 0 to 772\n",
      "Data columns (total 3 columns):\n",
      " #   Column    Non-Null Count  Dtype\n",
      "---  ------    --------------  -----\n",
      " 0   datasrno  773 non-null    int64\n",
      " 1   workex    773 non-null    int64\n",
      " 2   gmat      773 non-null    int64\n",
      "dtypes: int64(3)\n",
      "memory usage: 18.2 KB\n"
     ]
    }
   ],
   "source": [
    "mba.info() "
   ]
  },
  {
   "cell_type": "code",
   "execution_count": 16,
   "metadata": {
    "ExecuteTime": {
     "end_time": "2021-04-16T07:41:08.902001Z",
     "start_time": "2021-04-16T07:41:08.877961Z"
    }
   },
   "outputs": [
    {
     "data": {
      "text/plain": [
       "datasrno    0.000000\n",
       "workex      2.608537\n",
       "gmat       -0.595477\n",
       "dtype: float64"
      ]
     },
     "execution_count": 16,
     "metadata": {},
     "output_type": "execute_result"
    }
   ],
   "source": [
    "mba.skew()"
   ]
  },
  {
   "cell_type": "code",
   "execution_count": 17,
   "metadata": {
    "ExecuteTime": {
     "end_time": "2021-04-16T07:41:20.289881Z",
     "start_time": "2021-04-16T07:41:20.265644Z"
    }
   },
   "outputs": [
    {
     "data": {
      "text/plain": [
       "datasrno    -1.200000\n",
       "workex      13.404732\n",
       "gmat         1.167164\n",
       "dtype: float64"
      ]
     },
     "execution_count": 17,
     "metadata": {},
     "output_type": "execute_result"
    }
   ],
   "source": [
    "mba.kurt()"
   ]
  },
  {
   "cell_type": "code",
   "execution_count": 18,
   "metadata": {
    "ExecuteTime": {
     "end_time": "2021-04-16T07:42:09.162248Z",
     "start_time": "2021-04-16T07:42:08.369632Z"
    }
   },
   "outputs": [
    {
     "data": {
      "text/plain": [
       "(array([  6.,   9.,  20.,  30.,  54., 143., 282., 143.,  67.,  19.]),\n",
       " array([600., 618., 636., 654., 672., 690., 708., 726., 744., 762., 780.]),\n",
       " <a list of 10 Patch objects>)"
      ]
     },
     "execution_count": 18,
     "metadata": {},
     "output_type": "execute_result"
    },
    {
     "data": {
      "image/png": "[encoded data removed]",
      "text/plain": [
       "<Figure size 432x288 with 1 Axes>"
      ]
     },
     "metadata": {
      "needs_background": "light"
     },
     "output_type": "display_data"
    }
   ],
   "source": [
    "plt.hist(mba['gmat']) "
   ]
  },
  {
   "cell_type": "code",
   "execution_count": 19,
   "metadata": {
    "ExecuteTime": {
     "end_time": "2021-04-16T07:42:21.222146Z",
     "start_time": "2021-04-16T07:42:21.198135Z"
    }
   },
   "outputs": [
    {
     "data": {
      "text/plain": [
       "1.167164158069025"
      ]
     },
     "execution_count": 19,
     "metadata": {},
     "output_type": "execute_result"
    }
   ],
   "source": [
    "mba['gmat'].kurt()"
   ]
  },
  {
   "cell_type": "code",
   "execution_count": 20,
   "metadata": {
    "ExecuteTime": {
     "end_time": "2021-04-16T07:42:55.894292Z",
     "start_time": "2021-04-16T07:42:55.565708Z"
    }
   },
   "outputs": [
    {
     "data": {
      "text/plain": [
       "{'whiskers': [<matplotlib.lines.Line2D at 0x266fee6cb20>,\n",
       "  <matplotlib.lines.Line2D at 0x266fee6c310>],\n",
       " 'caps': [<matplotlib.lines.Line2D at 0x266fee6c400>,\n",
       "  <matplotlib.lines.Line2D at 0x266fee6ca60>],\n",
       " 'boxes': [<matplotlib.lines.Line2D at 0x266fee6af10>],\n",
       " 'medians': [<matplotlib.lines.Line2D at 0x266fee6ec40>],\n",
       " 'fliers': [<matplotlib.lines.Line2D at 0x266fee6e2b0>],\n",
       " 'means': []}"
      ]
     },
     "execution_count": 20,
     "metadata": {},
     "output_type": "execute_result"
    },
    {
     "data": {
      "image/png": "[encoded data removed]",
      "text/plain": [
       "<Figure size 432x288 with 1 Axes>"
      ]
     },
     "metadata": {
      "needs_background": "light"
     },
     "output_type": "display_data"
    }
   ],
   "source": [
    "plt.boxplot(mba[\"gmat\"],vert = True) "
   ]
  },
  {
   "cell_type": "markdown",
   "metadata": {},
   "source": [
    "# Calculating probability of normal distribution"
   ]
  },
  {
   "cell_type": "code",
   "execution_count": 21,
   "metadata": {
    "ExecuteTime": {
     "end_time": "2021-04-16T09:12:18.569809Z",
     "start_time": "2021-04-16T09:12:11.363581Z"
    }
   },
   "outputs": [
    {
     "data": {
      "text/plain": [
       "0.0031930116413535284"
      ]
     },
     "execution_count": 21,
     "metadata": {},
     "output_type": "execute_result"
    }
   ],
   "source": [
    "from scipy import stats \n",
    "stats.norm.cdf(10,40,11)\n",
    "# stats.norm.cdf(obv,mean,stddev)\n",
    "#effectively calculating z score and calculating probabilty"
   ]
  },
  {
   "cell_type": "markdown",
   "metadata": {},
   "source": [
    "# HYPOTHESIS TESTING"
   ]
  },
  {
   "cell_type": "code",
   "execution_count": 22,
   "metadata": {
    "ExecuteTime": {
     "end_time": "2021-04-16T10:45:23.082624Z",
     "start_time": "2021-04-16T10:45:22.986588Z"
    }
   },
   "outputs": [],
   "source": [
    "#import the libraries\n",
    "import pandas as pd\n",
    "import scipy \n",
    "import numpy as np\n",
    "from scipy import stats "
   ]
  },
  {
   "cell_type": "code",
   "execution_count": 26,
   "metadata": {
    "ExecuteTime": {
     "end_time": "2021-04-16T10:45:26.592533Z",
     "start_time": "2021-04-16T10:45:26.528510Z"
    }
   },
   "outputs": [
    {
     "data": {
      "text/plain": [
       "1.9904502099893602"
      ]
     },
     "execution_count": 26,
     "metadata": {},
     "output_type": "execute_result"
    }
   ],
   "source": [
    "#t critical value for a = 5 %\n",
    "stats.t.ppf(0.975,79)"
   ]
  },
  {
   "cell_type": "code",
   "execution_count": 23,
   "metadata": {
    "ExecuteTime": {
     "end_time": "2021-04-16T10:45:23.779777Z",
     "start_time": "2021-04-16T10:45:23.755565Z"
    }
   },
   "outputs": [
    {
     "data": {
      "text/plain": [
       "2.23606797749979"
      ]
     },
     "execution_count": 23,
     "metadata": {},
     "output_type": "execute_result"
    }
   ],
   "source": [
    "(130-120)/(40/np.sqrt(80)) \n",
    "#t value"
   ]
  },
  {
   "cell_type": "code",
   "execution_count": 24,
   "metadata": {
    "ExecuteTime": {
     "end_time": "2021-04-16T10:45:25.151055Z",
     "start_time": "2021-04-16T10:45:25.005032Z"
    }
   },
   "outputs": [
    {
     "data": {
      "text/plain": [
       "0.03415450236778749"
      ]
     },
     "execution_count": 24,
     "metadata": {},
     "output_type": "execute_result"
    }
   ],
   "source": [
    "stats.t.pdf((130-120)/(40/np.sqrt(80)) ,df=79) \n",
    "#pvalue"
   ]
  },
  {
   "cell_type": "code",
   "execution_count": 27,
   "metadata": {
    "ExecuteTime": {
     "end_time": "2021-04-16T10:49:32.991927Z",
     "start_time": "2021-04-16T10:49:32.975929Z"
    }
   },
   "outputs": [],
   "source": [
    "# stats.t.pdf(2.23,df=79) "
   ]
  },
  {
   "cell_type": "markdown",
   "metadata": {},
   "source": [
    "0.034<0.05, accpt h1."
   ]
  },
  {
   "cell_type": "markdown",
   "metadata": {},
   "source": [
    "# ANOVA\n"
   ]
  },
  {
   "cell_type": "code",
   "execution_count": 1,
   "metadata": {
    "ExecuteTime": {
     "end_time": "2021-04-18T03:09:41.102353Z",
     "start_time": "2021-04-18T03:09:39.322000Z"
    }
   },
   "outputs": [],
   "source": [
    "import pandas as pd\n",
    "import scipy \n",
    "from scipy import stats\n",
    " "
   ]
  },
  {
   "cell_type": "code",
   "execution_count": 2,
   "metadata": {
    "ExecuteTime": {
     "end_time": "2021-04-18T03:09:42.597473Z",
     "start_time": "2021-04-18T03:09:41.967051Z"
    }
   },
   "outputs": [
    {
     "name": "stdout",
     "output_type": "stream",
     "text": [
      "     Supplier A  Supplier B  Supplier C\n",
      "0          6.15        7.87        7.41\n",
      "1          6.22        5.21        3.61\n",
      "2          6.76        7.94        7.23\n",
      "3          4.29        7.36        5.53\n",
      "4          7.08        6.17        3.97\n",
      "..          ...         ...         ...\n",
      "115        5.85        4.53        4.27\n",
      "116        5.04        8.06        6.39\n",
      "117        5.68        7.14        4.60\n",
      "118        4.77        4.84        6.15\n",
      "119        3.57        4.55        5.28\n",
      "\n",
      "[120 rows x 3 columns]\n"
     ]
    },
    {
     "data": {
      "text/plain": [
       "F_onewayResult(statistic=2.280378701368123, pvalue=0.10373295731933224)"
      ]
     },
     "execution_count": 2,
     "metadata": {},
     "output_type": "execute_result"
    }
   ],
   "source": [
    "################One-Way Anova Test ################\n",
    "cof=pd.read_excel(\"ContractRenewal_Data(unstacked).xlsx\")\n",
    "print(cof) \n",
    "cof.columns=\"SupplierA\",\"SupplierB\",\"SupplierC\"\n",
    "stats.f_oneway(cof.iloc[:,0], cof.iloc[:,1],cof.iloc[:,2])   "
   ]
  },
  {
   "cell_type": "raw",
   "metadata": {},
   "source": [
    "# accept h0"
   ]
  },
  {
   "cell_type": "code",
   "execution_count": null,
   "metadata": {},
   "outputs": [],
   "source": []
  }
 ],
 "metadata": {
  "kernelspec": {
   "display_name": "Python 3",
   "language": "python",
   "name": "python3"
  },
  "language_info": {
   "codemirror_mode": {
    "name": "ipython",
    "version": 3
   },
   "file_extension": ".py",
   "mimetype": "text/x-python",
   "name": "python",
   "nbconvert_exporter": "python",
   "pygments_lexer": "ipython3",
   "version": "3.8.3"
  },
  "varInspector": {
   "cols": {
    "lenName": 16,
    "lenType": 16,
    "lenVar": 40
   },
   "kernels_config": {
    "python": {
     "delete_cmd_postfix": "",
     "delete_cmd_prefix": "del ",
     "library": "var_list.py",
     "varRefreshCmd": "print(var_dic_list())"
    },
    "r": {
     "delete_cmd_postfix": ") ",
     "delete_cmd_prefix": "rm(",
     "library": "var_list.r",
     "varRefreshCmd": "cat(var_dic_list()) "
    }
   },
   "types_to_exclude": [
    "module",
    "function",
    "builtin_function_or_method",
    "instance",
    "_Feature"
   ],
   "window_display": false
  }
 },
 "nbformat": 4,
 "nbformat_minor": 4
}
